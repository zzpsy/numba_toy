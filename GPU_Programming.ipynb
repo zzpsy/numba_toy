{
  "nbformat": 4,
  "nbformat_minor": 0,
  "metadata": {
    "colab": {
      "name": "GPU-Programming.ipynb",
      "provenance": []
    },
    "kernelspec": {
      "name": "python3",
      "display_name": "Python 3"
    },
    "accelerator": "GPU"
  },
  "cells": [
    {
      "cell_type": "markdown",
      "metadata": {
        "id": "Ju6xqhsJw-MR"
      },
      "source": [
        "## GPU Demos"
      ]
    },
    {
      "cell_type": "markdown",
      "metadata": {
        "id": "7kCq-WoUUDRV"
      },
      "source": [
        "### Install and Imports"
      ]
    },
    {
      "cell_type": "markdown",
      "metadata": {
        "id": "calQiUxRUIlk"
      },
      "source": [
        "Do a `pip install` of the [numba](https://numba.pydata.org/) library and check for where the cuda `.so` files are kept.  If a `.so` appears CUDA is likely installed."
      ]
    },
    {
      "cell_type": "code",
      "metadata": {
        "id": "_9_HoXwERH1i",
        "outputId": "e378017c-ef14-4f38-d99d-86d5c37bfd1c",
        "colab": {
          "base_uri": "https://localhost:8080/",
          "height": 153
        }
      },
      "source": [
        "!pip install numba\n",
        "!find / -iname 'libdevice'\n",
        "!find / -iname 'libnvvm.so'"
      ],
      "execution_count": 4,
      "outputs": [
        {
          "output_type": "stream",
          "text": [
            "Requirement already satisfied: numba in /usr/local/lib/python3.6/dist-packages (0.48.0)\n",
            "Requirement already satisfied: setuptools in /usr/local/lib/python3.6/dist-packages (from numba) (50.3.0)\n",
            "Requirement already satisfied: llvmlite<0.32.0,>=0.31.0dev0 in /usr/local/lib/python3.6/dist-packages (from numba) (0.31.0)\n",
            "Requirement already satisfied: numpy>=1.15 in /usr/local/lib/python3.6/dist-packages (from numba) (1.18.5)\n",
            "/usr/local/cuda-10.1/nvvm/libdevice\n",
            "/usr/local/cuda-10.0/nvvm/libdevice\n",
            "/usr/local/cuda-10.1/nvvm/lib64/libnvvm.so\n",
            "/usr/local/cuda-10.0/nvvm/lib64/libnvvm.so\n"
          ],
          "name": "stdout"
        }
      ]
    },
    {
      "cell_type": "markdown",
      "metadata": {
        "id": "BknYtVD3U3JO"
      },
      "source": [
        "Install libraries"
      ]
    },
    {
      "cell_type": "code",
      "metadata": {
        "id": "RizeFcTRRSBP"
      },
      "source": [
        "%matplotlib inline\n",
        "from matplotlib import pyplot as plt\n",
        "import numpy as np\n",
        "import math\n",
        "from numba import jit, njit, vectorize, cuda, uint32, f8, uint8, float32\n",
        "from pylab import imshow, show\n",
        "from timeit import default_timer as timer"
      ],
      "execution_count": 12,
      "outputs": []
    },
    {
      "cell_type": "code",
      "metadata": {
        "id": "_czVXfcSZf_i",
        "outputId": "9a4db0b6-4fcc-47ac-e2ab-3881c236670a",
        "colab": {
          "base_uri": "https://localhost:8080/",
          "height": 51
        }
      },
      "source": [
        "\n",
        "def matmul_cpu(A, B, C):\n",
        "    \"\"\"Perform square matrix multiplication of C = A * B without using GPU\n",
        "    \"\"\"\n",
        "    for i in range(C.shape[0]):\n",
        "        for j in range(C.shape[1]):\n",
        "            tmp = 0.\n",
        "            for k in range(A.shape[1]):\n",
        "                tmp += A[i, k] * B[k, j]\n",
        "            C[i, j] = tmp\n",
        "\n",
        "\n",
        "# references https://numba.pydata.org/numba-doc/dev/cuda/examples.html\n",
        "@cuda.jit\n",
        "def matmul_gpu(A, B, C):\n",
        "    \"\"\"Perform square matrix multiplication of C = A * B using GPU\n",
        "    \"\"\"\n",
        "\n",
        "    i, j = cuda.grid(2)\n",
        "    if i < C.shape[0] and j < C.shape[1]:\n",
        "        tmp = 0.\n",
        "        for k in range(A.shape[1]):\n",
        "            tmp += A[i, k] * B[k, j]\n",
        "        C[i, j] = tmp\n",
        "\n",
        "\n",
        "\n",
        "\n",
        "\n",
        "\n",
        "\n",
        "A = np.random.rand(400,200)\n",
        "B = np.random.rand(200,100)\n",
        "C = np.random.rand(400,100)\n",
        "start = timer()\n",
        "matmul_cpu(A, B, C)    \n",
        "print(timer() - start)\n",
        "\n",
        "start = timer()\n",
        "matmul_gpu(A, B, C)\n",
        "print(timer() - start)\n",
        "\n"
      ],
      "execution_count": 21,
      "outputs": [
        {
          "output_type": "stream",
          "text": [
            "3.7225886399999126\n",
            "0.16488140299998122\n"
          ],
          "name": "stdout"
        }
      ]
    },
    {
      "cell_type": "code",
      "metadata": {
        "id": "JJkpIPvDdQo9"
      },
      "source": [
        ""
      ],
      "execution_count": null,
      "outputs": []
    }
  ]
}